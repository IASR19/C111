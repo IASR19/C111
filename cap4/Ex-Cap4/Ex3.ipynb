{
 "cells": [
  {
   "cell_type": "code",
   "execution_count": 13,
   "id": "bf2b627b",
   "metadata": {
    "pycharm": {
     "name": "#%%\n"
    }
   },
   "outputs": [],
   "source": [
    "import numpy as np"
   ]
  },
  {
   "cell_type": "code",
   "execution_count": 14,
   "id": "0dd40f98",
   "metadata": {
    "pycharm": {
     "name": "#%%\n"
    }
   },
   "outputs": [],
   "source": [
    "space = np.loadtxt('arquivos/space.csv', delimiter=';', dtype=str, encoding='utf-8')"
   ]
  },
  {
   "cell_type": "code",
   "execution_count": 15,
   "outputs": [
    {
     "name": "stdout",
     "output_type": "stream",
     "text": [
      "Q1: Porcentagem de missões bem sucedidas: 0.02%.\n"
     ]
    }
   ],
   "source": [
    "# Q1\n",
    "unique, counts = np.unique(space[:, -1], return_counts=True)\n",
    "percentagem = counts[3] / len(space) * 100\n",
    "print('Q1: Porcentagem de missões bem sucedidas: {:.2f}%.'.format(percentagem))"
   ],
   "metadata": {
    "collapsed": false,
    "pycharm": {
     "name": "#%%\n"
    }
   }
  },
  {
   "cell_type": "code",
   "execution_count": 22,
   "outputs": [
    {
     "name": "stdout",
     "output_type": "stream",
     "text": [
      "Q2: A média de gastos em missões com custo maior que 0 é: US$ 153.79.\n"
     ]
    }
   ],
   "source": [
    "# Q2\n",
    "gastos = space[1:,6].astype(float)\n",
    "quantidade = sum(gastos[gastos > 0])\n",
    "valor = len(gastos[gastos > 0])\n",
    "media = quantidade/valor\n",
    "\n",
    "print(\"Q2: A média de gastos em missões com custo maior que 0 é: US$ {:.2f}.\".format(media))"
   ],
   "metadata": {
    "collapsed": false,
    "pycharm": {
     "name": "#%%\n"
    }
   }
  },
  {
   "cell_type": "code",
   "execution_count": 32,
   "outputs": [
    {
     "name": "stdout",
     "output_type": "stream",
     "text": [
      "Q3: Foi(ram) lançado(s) em solo americano 1 missão(ões)\n"
     ]
    }
   ],
   "source": [
    "# Q3\n",
    "paises = space[1: 2]\n",
    "eua = np.char.find(paises,'USA') > 0\n",
    "print(\"Q3: Foi(ram) lançado(s) em solo americano\", len(paises[eua]), 'missão(ões)')"
   ],
   "metadata": {
    "collapsed": false,
    "pycharm": {
     "name": "#%%\n"
    }
   }
  },
  {
   "cell_type": "code",
   "execution_count": 41,
   "outputs": [
    {
     "name": "stdout",
     "output_type": "stream",
     "text": [
      "Q4: A missão da Empresa SpaceX mais cara foi a ('Falcon Heavy | STP-2', 'custando US$', '90.0 ')\n"
     ]
    }
   ],
   "source": [
    "# Q4\n",
    "arr = space[:, [1, -2, 4]]\n",
    "valores = arr[arr[:, 0] == \"SpaceX\", 1]\n",
    "nomes = arr[arr[:, 0] == \"SpaceX\", 2]\n",
    "result = valores.astype(dtype=np.float64).argmax(axis=0)\n",
    "print('Q4: A missão da Empresa SpaceX mais cara foi a',(nomes[result] , 'custando US$',valores[result]))\n"
   ],
   "metadata": {
    "collapsed": false,
    "pycharm": {
     "name": "#%%\n"
    }
   }
  },
  {
   "cell_type": "code",
   "execution_count": 45,
   "outputs": [
    {
     "name": "stdout",
     "output_type": "stream",
     "text": [
      "Q5: Empresas que realizaram missões e suas quantidades:\n",
      "\n",
      "Empresa:AEB, Numero de missoes: 3\n",
      "Empresa:AMBA, Numero de missoes: 8\n",
      "Empresa:ASI, Numero de missoes: 9\n",
      "Empresa:Arianespace, Numero de missoes: 279\n",
      "Empresa:Arm??e de l'Air, Numero de missoes: 4\n",
      "Empresa:Blue Origin, Numero de missoes: 12\n",
      "Empresa:Boeing, Numero de missoes: 136\n",
      "Empresa:CASC, Numero de missoes: 251\n",
      "Empresa:CASIC, Numero de missoes: 5\n",
      "Empresa:CECLES, Numero de missoes: 4\n",
      "Empresa:CNES, Numero de missoes: 8\n",
      "Empresa:Douglas, Numero de missoes: 1\n",
      "Empresa:EER, Numero de missoes: 1\n",
      "Empresa:ESA, Numero de missoes: 13\n",
      "Empresa:Eurockot, Numero de missoes: 13\n",
      "Empresa:ExPace, Numero de missoes: 10\n",
      "Empresa:Exos, Numero de missoes: 4\n",
      "Empresa:General Dynamics, Numero de missoes: 251\n",
      "Empresa:IAI, Numero de missoes: 11\n",
      "Empresa:ILS, Numero de missoes: 46\n",
      "Empresa:IRGC, Numero de missoes: 1\n",
      "Empresa:ISA, Numero de missoes: 13\n",
      "Empresa:ISAS, Numero de missoes: 30\n",
      "Empresa:ISRO, Numero de missoes: 76\n",
      "Empresa:JAXA, Numero de missoes: 7\n",
      "Empresa:KARI, Numero de missoes: 3\n",
      "Empresa:KCST, Numero de missoes: 5\n",
      "Empresa:Khrunichev, Numero de missoes: 1\n",
      "Empresa:Kosmotras, Numero de missoes: 22\n",
      "Empresa:Land Launch, Numero de missoes: 7\n",
      "Empresa:Landspace, Numero de missoes: 1\n",
      "Empresa:Lockheed, Numero de missoes: 79\n",
      "Empresa:MHI, Numero de missoes: 84\n",
      "Empresa:MITT, Numero de missoes: 7\n",
      "Empresa:Martin Marietta, Numero de missoes: 114\n",
      "Empresa:NASA, Numero de missoes: 203\n",
      "Empresa:Northrop, Numero de missoes: 83\n",
      "Empresa:OKB-586, Numero de missoes: 2\n",
      "Empresa:OneSpace, Numero de missoes: 1\n",
      "Empresa:RAE, Numero de missoes: 2\n",
      "Empresa:RVSN USSR, Numero de missoes: 1777\n",
      "Empresa:Rocket Lab, Numero de missoes: 13\n",
      "Empresa:Roscosmos, Numero de missoes: 55\n",
      "Empresa:SRC, Numero de missoes: 3\n",
      "Empresa:Sandia, Numero de missoes: 1\n",
      "Empresa:Sea Launch, Numero de missoes: 36\n",
      "Empresa:SpaceX, Numero de missoes: 100\n",
      "Empresa:Starsem, Numero de missoes: 1\n",
      "Empresa:ULA, Numero de missoes: 140\n",
      "Empresa:US Air Force, Numero de missoes: 161\n",
      "Empresa:US Navy, Numero de missoes: 17\n",
      "Empresa:UT, Numero de missoes: 5\n",
      "Empresa:VKS RF, Numero de missoes: 201\n",
      "Empresa:Virgin Orbit, Numero de missoes: 1\n",
      "Empresa:Yuzhmash, Numero de missoes: 2\n",
      "Empresa:i-Space, Numero de missoes: 1\n"
     ]
    }
   ],
   "source": [
    "# Q5\n",
    "empresa = space[1:,1]\n",
    "(x, y) = np.unique(empresa, return_counts=True)\n",
    "print('Q5: Empresas que realizaram missões e suas quantidades:\\n')\n",
    "for i in range(len(x)):\n",
    "    print(\"Empresa:{}, Numero de missoes: {}\".format(x[i],y[i]))"
   ],
   "metadata": {
    "collapsed": false,
    "pycharm": {
     "name": "#%%\n"
    }
   }
  },
  {
   "cell_type": "code",
   "execution_count": null,
   "outputs": [],
   "source": [],
   "metadata": {
    "collapsed": false,
    "pycharm": {
     "name": "#%%\n"
    }
   }
  }
 ],
 "metadata": {
  "kernelspec": {
   "display_name": "Python 3 (ipykernel)",
   "language": "python",
   "name": "python3"
  },
  "language_info": {
   "codemirror_mode": {
    "name": "ipython",
    "version": 3
   },
   "file_extension": ".py",
   "mimetype": "text/x-python",
   "name": "python",
   "nbconvert_exporter": "python",
   "pygments_lexer": "ipython3",
   "version": "3.10.6"
  }
 },
 "nbformat": 4,
 "nbformat_minor": 5
}